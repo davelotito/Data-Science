{
 "cells": [
  {
   "cell_type": "code",
   "execution_count": 84,
   "metadata": {},
   "outputs": [],
   "source": [
    "# This program predicts stock prices buy using machine learning models\n",
    "\n",
    "#Install the depedencies"
   ]
  },
  {
   "cell_type": "code",
   "execution_count": 85,
   "metadata": {},
   "outputs": [],
   "source": [
    "import quandl\n",
    "import numpy as np\n",
    "from sklearn.linear_model import LinearRegression\n",
    "from sklearn.svm import SVR\n",
    "from sklearn.model_selection import train_test_split"
   ]
  },
  {
   "cell_type": "code",
   "execution_count": 86,
   "metadata": {},
   "outputs": [
    {
     "name": "stdout",
     "output_type": "stream",
     "text": [
      "              Open    High     Low    Close      Volume  Ex-Dividend  \\\n",
      "Date                                                                   \n",
      "2018-03-21  175.04  175.09  171.26  171.270  35247358.0          0.0   \n",
      "2018-03-22  170.00  172.68  168.60  168.845  41051076.0          0.0   \n",
      "2018-03-23  168.39  169.92  164.94  164.940  40248954.0          0.0   \n",
      "2018-03-26  168.07  173.10  166.44  172.770  36272617.0          0.0   \n",
      "2018-03-27  173.68  175.15  166.92  168.340  38962839.0          0.0   \n",
      "\n",
      "            Split Ratio  Adj. Open  Adj. High  Adj. Low  Adj. Close  \\\n",
      "Date                                                                  \n",
      "2018-03-21          1.0     175.04     175.09    171.26     171.270   \n",
      "2018-03-22          1.0     170.00     172.68    168.60     168.845   \n",
      "2018-03-23          1.0     168.39     169.92    164.94     164.940   \n",
      "2018-03-26          1.0     168.07     173.10    166.44     172.770   \n",
      "2018-03-27          1.0     173.68     175.15    166.92     168.340   \n",
      "\n",
      "            Adj. Volume  \n",
      "Date                     \n",
      "2018-03-21   35247358.0  \n",
      "2018-03-22   41051076.0  \n",
      "2018-03-23   40248954.0  \n",
      "2018-03-26   36272617.0  \n",
      "2018-03-27   38962839.0  \n"
     ]
    }
   ],
   "source": [
    "#Get the stock data\n",
    "df = quandl.get(\"WIKI/AAPL\")\n",
    "# Take a look at the data\n",
    "print(df.tail())"
   ]
  },
  {
   "cell_type": "code",
   "execution_count": 87,
   "metadata": {},
   "outputs": [
    {
     "name": "stdout",
     "output_type": "stream",
     "text": [
      "            Adj. Close\n",
      "Date                  \n",
      "1980-12-12    0.422706\n",
      "1980-12-15    0.400652\n",
      "1980-12-16    0.371246\n",
      "1980-12-17    0.380362\n",
      "1980-12-18    0.391536\n"
     ]
    }
   ],
   "source": [
    "#Get the Adjusted Close Price\n",
    "df = df[['Adj. Close']]\n",
    "print(df.head())"
   ]
  },
  {
   "cell_type": "code",
   "execution_count": 88,
   "metadata": {},
   "outputs": [
    {
     "name": "stdout",
     "output_type": "stream",
     "text": [
      "            Adj. Close  Prediction\n",
      "Date                              \n",
      "2018-03-21     171.270         NaN\n",
      "2018-03-22     168.845         NaN\n",
      "2018-03-23     164.940         NaN\n",
      "2018-03-26     172.770         NaN\n",
      "2018-03-27     168.340         NaN\n"
     ]
    }
   ],
   "source": [
    "# A variable for predicting 'n' days out into the future\n",
    "forecast_out = 30\n",
    "\n",
    "#Create another column (the target or dependent variable) and shifted '\n",
    "#n' units up\n",
    "df['Prediction'] = df[['Adj. Close']].shift(-forecast_out)\n",
    "#print the new data set\n",
    "print(df.tail())"
   ]
  },
  {
   "cell_type": "code",
   "execution_count": 89,
   "metadata": {},
   "outputs": [
    {
     "name": "stdout",
     "output_type": "stream",
     "text": [
      "[[  0.42270592]\n",
      " [  0.40065169]\n",
      " [  0.37124607]\n",
      " ...\n",
      " [155.32      ]\n",
      " [155.97      ]\n",
      " [162.71      ]]\n"
     ]
    }
   ],
   "source": [
    "### Create the independent data set (X) ###\n",
    "#Convert the datafraome to a  numpy array\n",
    "X = np.array(df.drop(['Prediction'],1))\n",
    "#Remove the last 'n' rows\n",
    "X = X[:-forecast_out]\n",
    "print(X)"
   ]
  },
  {
   "cell_type": "code",
   "execution_count": 90,
   "metadata": {},
   "outputs": [
    {
     "name": "stdout",
     "output_type": "stream",
     "text": [
      "[  0.47049006   0.45578725   0.43917307 ... 164.94       172.77\n",
      " 168.34      ]\n"
     ]
    }
   ],
   "source": [
    " ### Create the depdendent data set (Y) ###\n",
    "# Convert the dataframe to a numpy array (All of the values including the\n",
    "#NaN's)\n",
    "y = np.array(df['Prediction'])\n",
    "#Get all of the y values except the last 'n' rows\n",
    "y = y[:-forecast_out]\n",
    "print(y)"
   ]
  },
  {
   "cell_type": "code",
   "execution_count": 91,
   "metadata": {},
   "outputs": [],
   "source": [
    "# Split the data into 80% training and 20% testing\n",
    "x_train, x_test, y_train, y_test = train_test_split(X, y, test_size=0.2)"
   ]
  },
  {
   "cell_type": "code",
   "execution_count": 92,
   "metadata": {},
   "outputs": [
    {
     "data": {
      "text/plain": [
       "SVR(C=1000.0, cache_size=200, coef0=0.0, degree=3, epsilon=0.1, gamma=0.1,\n",
       "    kernel='rbf', max_iter=-1, shrinking=True, tol=0.001, verbose=False)"
      ]
     },
     "execution_count": 92,
     "metadata": {},
     "output_type": "execute_result"
    }
   ],
   "source": [
    "#Create and train the Support Vector Machine (Regressor)\n",
    "svr_rbf = SVR(kernel='rbf', C=1e3, gamma=0.1)\n",
    "svr_rbf.fit(x_train, y_train)"
   ]
  },
  {
   "cell_type": "code",
   "execution_count": 93,
   "metadata": {},
   "outputs": [
    {
     "name": "stdout",
     "output_type": "stream",
     "text": [
      "svm confidence:  0.9915109231529813\n"
     ]
    }
   ],
   "source": [
    "# Testing Model: Score returns the coefficent of determination R^2 of the prediction\n",
    "#The best possible score is 1.0\n",
    "svm_confidence = svr_rbf.score(x_test, y_test)\n",
    "print(\"svm confidence: \", svm_confidence)"
   ]
  },
  {
   "cell_type": "code",
   "execution_count": 94,
   "metadata": {},
   "outputs": [
    {
     "data": {
      "text/plain": [
       "LinearRegression(copy_X=True, fit_intercept=True, n_jobs=None, normalize=False)"
      ]
     },
     "execution_count": 94,
     "metadata": {},
     "output_type": "execute_result"
    }
   ],
   "source": [
    "# Create and train the Linear Regression model\n",
    "lr = LinearRegression()\n",
    "# Train the model\n",
    "lr.fit(x_train, y_train)"
   ]
  },
  {
   "cell_type": "code",
   "execution_count": 95,
   "metadata": {},
   "outputs": [
    {
     "name": "stdout",
     "output_type": "stream",
     "text": [
      "lr confidence:  0.9906042741158508\n"
     ]
    }
   ],
   "source": [
    "# Testing Model: Score returns the coefficent of determination R^2 of the prediction\n",
    "#The best possible score is 1.0\n",
    "lr_confidence = lr.score(x_test, y_test)\n",
    "print(\"lr confidence: \", lr_confidence)"
   ]
  },
  {
   "cell_type": "code",
   "execution_count": 96,
   "metadata": {},
   "outputs": [],
   "source": [
    "# Set x_forecast equal to the last 30 rows of the original data set from Adj. Close column\n",
    "x_forecast = np.array(df.drop(['Prediction'],1))[-forecast_out:]\n",
    "#print(x_forecast)"
   ]
  },
  {
   "cell_type": "code",
   "execution_count": 97,
   "metadata": {},
   "outputs": [
    {
     "name": "stdout",
     "output_type": "stream",
     "text": [
      "[168.26343156 171.36358501 177.11370462 176.54073897 175.94731025\n",
      " 175.14925095 176.71467497 179.73809195 183.23215929 182.63873058\n",
      " 182.36247928 179.17024206 180.40825714 181.03238044 180.8789075\n",
      " 179.20093665 181.15515879 184.26554378 186.04582992 184.25531225\n",
      " 182.68988823 182.90475035 182.26016399 179.47718795 179.41579877\n",
      " 175.35388154 172.87273562 168.87732333 176.88861097 172.35604338]\n"
     ]
    }
   ],
   "source": [
    "# Print linear regression model predictions for the next 'n' days\n",
    "lr_prediction = lr.predict(x_forecast)\n",
    "print(lr_prediction)"
   ]
  },
  {
   "cell_type": "code",
   "execution_count": 98,
   "metadata": {},
   "outputs": [
    {
     "name": "stdout",
     "output_type": "stream",
     "text": [
      "[156.0983335  177.84692653 172.40059996 173.04482855 172.51470702\n",
      " 169.96158089 172.94252184 174.20627761 176.69623827 176.90682685\n",
      " 176.82338606 172.51981102 175.82043022 176.49593347 176.39877729\n",
      " 172.60599758 176.54957857 172.04430103 143.40293815 172.13235276\n",
      " 176.91667164 176.91693631 176.78858753 173.42306541 173.23739452\n",
      " 170.7204042  173.73136837 155.87816496 172.74865817 177.12323763]\n"
     ]
    }
   ],
   "source": [
    "# Print Support Vector Regressor model predictions for the next 'n' days\n",
    "svm_prediction = svr_rbf.predict(x_forecast)\n",
    "print(svm_prediction)"
   ]
  },
  {
   "cell_type": "code",
   "execution_count": null,
   "metadata": {},
   "outputs": [],
   "source": []
  }
 ],
 "metadata": {
  "kernelspec": {
   "display_name": "Python 3",
   "language": "python",
   "name": "python3"
  },
  "language_info": {
   "codemirror_mode": {
    "name": "ipython",
    "version": 3
   },
   "file_extension": ".py",
   "mimetype": "text/x-python",
   "name": "python",
   "nbconvert_exporter": "python",
   "pygments_lexer": "ipython3",
   "version": "3.7.4"
  }
 },
 "nbformat": 4,
 "nbformat_minor": 2
}
